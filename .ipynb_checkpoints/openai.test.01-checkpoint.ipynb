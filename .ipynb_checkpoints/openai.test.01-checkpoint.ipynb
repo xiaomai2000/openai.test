{
 "cells": [
  {
   "cell_type": "code",
   "execution_count": null,
   "id": "d9529797",
   "metadata": {},
   "outputs": [],
   "source": [
    "import os"
   ]
  },
  {
   "cell_type": "code",
   "execution_count": null,
   "id": "b90797d5",
   "metadata": {},
   "outputs": [],
   "source": [
    "import openai"
   ]
  },
  {
   "cell_type": "code",
   "execution_count": null,
   "id": "d9babaa0",
   "metadata": {},
   "outputs": [],
   "source": [
    "openai.api_key = \"sk-XXXX\""
   ]
  },
  {
   "cell_type": "code",
   "execution_count": null,
   "id": "e7094f4d",
   "metadata": {},
   "outputs": [],
   "source": [
    "#Get key from file C:\\temp\\apikey.txt\n",
    "with open(r\"C:\\temp\\apikey.txt\") as keyfile:\n",
    "    #print(keyfile.readlines())\n",
    "    openai.api_key = keyfile.readlines()[0]\n",
    "    keysuffix = openai.api_key[-5:]\n",
    "    print(f'Got the API Key, with suffix: \\t {keysuffix}')"
   ]
  },
  {
   "cell_type": "code",
   "execution_count": null,
   "id": "6b60b9dc",
   "metadata": {},
   "outputs": [],
   "source": [
    "# list models\n",
    "#models = openai.Model.list()\n",
    "\n",
    "# print the first model's id\n",
    "#print(models.data[0].id)"
   ]
  },
  {
   "cell_type": "code",
   "execution_count": null,
   "id": "3762cd04",
   "metadata": {},
   "outputs": [],
   "source": [
    "# 提问\n",
    "prompt = 'Who are you?'\n",
    "\n",
    "messages = [\n",
    "        {\"role\": \"system\", \"content\": \"You are a helpful assistant.\"},\n",
    "        {\"role\": \"user\", \"content\": \"Who won the world series in 2020?\"},\n",
    "        {\"role\": \"assistant\", \"content\": \"The Los Angeles Dodgers won the World Series in 2020.\"},\n",
    "        {\"role\": \"user\", \"content\": \"Where was it played?\"}\n",
    "        ]\n",
    "\n",
    "# create a completion\n",
    "#response = openai.ChatCompletion.create(\n",
    "#    model='gpt-3.5-turbo',\n",
    "#    messages=messages\n",
    "#)\n",
    "\n",
    "\n",
    "completion = openai.ChatCompletion.create(\n",
    "  model=\"gpt-3.5-turbo\", \n",
    "  messages=[{\"role\": \"user\", \"content\": \"Tell the world about the ChatGPT API in the style of a pirate.\"}]\n",
    ")\n",
    "\n",
    "\n",
    "# print the completion\n",
    "resText = response.choices[0].message.content"
   ]
  },
  {
   "cell_type": "code",
   "execution_count": null,
   "id": "93cb7271",
   "metadata": {},
   "outputs": [],
   "source": [
    "#"
   ]
  },
  {
   "cell_type": "code",
   "execution_count": null,
   "id": "e4fb900a",
   "metadata": {},
   "outputs": [],
   "source": [
    "# 提问\n",
    "issue = 'Who are you?'\n",
    "\n",
    "# 访问OpenAI接口\n",
    "response = openai.Completion.create(\n",
    "  model='text-davinci-003',\n",
    "  prompt=issue,\n",
    "  temperature=0.9,\n",
    "  max_tokens=150,\n",
    "  top_p=1,\n",
    "  frequency_penalty=0.0,\n",
    "  presence_penalty=0.6\n",
    ")\n",
    "# 返回信息\n",
    "resText = response.choices[0].text\n",
    "\n",
    "print(resText)"
   ]
  },
  {
   "cell_type": "markdown",
   "id": "a56fe1b8",
   "metadata": {},
   "source": [
    "### Write a program:\n"
   ]
  },
  {
   "cell_type": "code",
   "execution_count": null,
   "id": "3566f21e",
   "metadata": {},
   "outputs": [],
   "source": [
    "# 提问\n",
    "issue = 'Write a python program for implementation of Bubble Sort.'\n",
    "\n",
    "# 访问OpenAI接口\n",
    "response = openai.Completion.create(\n",
    "  model='text-curie-001',\n",
    "  prompt=issue,\n",
    "  temperature=0.0,\n",
    "  max_tokens=1000,\n",
    "  top_p=1,\n",
    "  frequency_penalty=0.0,\n",
    "  presence_penalty=0.6\n",
    ")\n",
    "# 返回信息\n",
    "resText = response.choices[0].text\n",
    "\n",
    "print(resText)"
   ]
  },
  {
   "cell_type": "code",
   "execution_count": null,
   "id": "8d6d9476",
   "metadata": {},
   "outputs": [],
   "source": []
  }
 ],
 "metadata": {
  "kernelspec": {
   "display_name": "Python39",
   "language": "python",
   "name": "python39"
  },
  "language_info": {
   "codemirror_mode": {
    "name": "ipython",
    "version": 3
   },
   "file_extension": ".py",
   "mimetype": "text/x-python",
   "name": "python",
   "nbconvert_exporter": "python",
   "pygments_lexer": "ipython3",
   "version": "3.9.16"
  }
 },
 "nbformat": 4,
 "nbformat_minor": 5
}
