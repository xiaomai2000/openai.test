{
 "cells": [
  {
   "cell_type": "code",
   "execution_count": 2,
   "id": "d9529797",
   "metadata": {},
   "outputs": [],
   "source": [
    "import os"
   ]
  },
  {
   "cell_type": "code",
   "execution_count": 3,
   "id": "b90797d5",
   "metadata": {},
   "outputs": [],
   "source": [
    "import openai"
   ]
  },
  {
   "cell_type": "code",
   "execution_count": 17,
   "id": "d9babaa0",
   "metadata": {},
   "outputs": [],
   "source": [
    "openai.api_key = \"sk-XXXX\""
   ]
  },
  {
   "cell_type": "code",
   "execution_count": 32,
   "id": "e7094f4d",
   "metadata": {},
   "outputs": [
    {
     "name": "stdout",
     "output_type": "stream",
     "text": [
      "Got the API Key, with suffix: \t AJgiA\n"
     ]
    }
   ],
   "source": [
    "#Get key from file C:\\temp\\apikey.txt\n",
    "with open(r\"C:\\temp\\apikey.txt\") as keyfile:\n",
    "    #print(keyfile.readlines())\n",
    "    openai.api_key = keyfile.readlines()[0]\n",
    "    keysuffix = openai.api_key[-5:]\n",
    "    print(f'Got the API Key, with suffix: \\t {keysuffix}')"
   ]
  },
  {
   "cell_type": "code",
   "execution_count": 20,
   "id": "6b60b9dc",
   "metadata": {},
   "outputs": [
    {
     "name": "stdout",
     "output_type": "stream",
     "text": [
      "babbage\n"
     ]
    }
   ],
   "source": [
    "# list models\n",
    "models = openai.Model.list()\n",
    "\n",
    "# print the first model's id\n",
    "print(models.data[0].id)"
   ]
  },
  {
   "cell_type": "code",
   "execution_count": null,
   "id": "3762cd04",
   "metadata": {},
   "outputs": [],
   "source": []
  },
  {
   "cell_type": "code",
   "execution_count": null,
   "id": "93cb7271",
   "metadata": {},
   "outputs": [],
   "source": []
  }
 ],
 "metadata": {
  "kernelspec": {
   "display_name": "Python39",
   "language": "python",
   "name": "python39"
  },
  "language_info": {
   "codemirror_mode": {
    "name": "ipython",
    "version": 3
   },
   "file_extension": ".py",
   "mimetype": "text/x-python",
   "name": "python",
   "nbconvert_exporter": "python",
   "pygments_lexer": "ipython3",
   "version": "3.9.16"
  }
 },
 "nbformat": 4,
 "nbformat_minor": 5
}
